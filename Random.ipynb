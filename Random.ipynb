{
 "cells": [
  {
   "cell_type": "code",
   "execution_count": 11,
   "metadata": {},
   "outputs": [
    {
     "name": "stdout",
     "output_type": "stream",
     "text": [
      "[ 77  78  85  86  86  86  87  87  88  94  99 103 111]\n"
     ]
    },
    {
     "data": {
      "text/plain": [
       "87.0"
      ]
     },
     "execution_count": 11,
     "metadata": {},
     "output_type": "execute_result"
    }
   ],
   "source": [
    "import numpy as np\n",
    "\n",
    "speed=np.array([99,86,87,88,111,86,103,87,94,78,77,85,86])\n",
    "speed.sort()\n",
    "print(speed)\n",
    "meanvalue=np.mean(speed) # is this avarage\n",
    "meanvalue\n",
    "\n",
    "madianvalue=np.median(speed)\n",
    "madianvalue"
   ]
  }
 ],
 "metadata": {
  "kernelspec": {
   "display_name": "base",
   "language": "python",
   "name": "python3"
  },
  "language_info": {
   "codemirror_mode": {
    "name": "ipython",
    "version": 3
   },
   "file_extension": ".py",
   "mimetype": "text/x-python",
   "name": "python",
   "nbconvert_exporter": "python",
   "pygments_lexer": "ipython3",
   "version": "3.12.7"
  }
 },
 "nbformat": 4,
 "nbformat_minor": 2
}
